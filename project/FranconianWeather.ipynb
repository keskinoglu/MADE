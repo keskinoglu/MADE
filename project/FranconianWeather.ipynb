{
 "cells": [
  {
   "cell_type": "code",
   "execution_count": null,
   "metadata": {},
   "outputs": [],
   "source": [
    "import pandas as pd\n",
    "\n",
    "from FranconianWeather import download_file\n",
    "from FranconianWeather import load_txt_from_zip\n",
    "from FranconianWeather import save_to_sqlite"
   ]
  },
  {
   "cell_type": "code",
   "execution_count": null,
   "metadata": {},
   "outputs": [],
   "source": [
    "bamberg = \"monatswerte_KL_00282_18810101_20231231_hist.zip\"\n",
    "wuerzburg = \"monatswerte_KL_05705_18810101_20231231_hist.zip\"\n",
    "\n",
    "download_file(bamberg)\n",
    "download_file(wuerzburg)"
   ]
  },
  {
   "cell_type": "code",
   "execution_count": null,
   "metadata": {},
   "outputs": [],
   "source": [
    "# Define the name of the text file inside the zip file\n",
    "bamberg_data_file = \"produkt_klima_monat_18810101_20231231_00282.txt\"\n",
    "\n",
    "# Load the text file into a pandas DataFrame\n",
    "bamberg_df = load_txt_from_zip(bamberg, bamberg_data_file)\n",
    "\n",
    "bamberg_df"
   ]
  },
  {
   "cell_type": "code",
   "execution_count": null,
   "metadata": {},
   "outputs": [],
   "source": [
    "wuerzburg_data_file = \"produkt_klima_monat_18810101_20231231_05705.txt\"\n",
    "\n",
    "wuerzburg_df = load_txt_from_zip(wuerzburg, wuerzburg_data_file)\n",
    "\n",
    "wuerzburg_df"
   ]
  },
  {
   "cell_type": "code",
   "execution_count": null,
   "metadata": {},
   "outputs": [],
   "source": [
    "# Combine the dataframes so we can save to a database\n",
    "combined_df = pd.concat([bamberg_df, wuerzburg_df])"
   ]
  },
  {
   "cell_type": "code",
   "execution_count": null,
   "metadata": {},
   "outputs": [],
   "source": [
    "# Save the DataFrame to an SQLite database\n",
    "save_to_sqlite(combined_df, 'franconian-weather')"
   ]
  }
 ],
 "metadata": {
  "kernelspec": {
   "display_name": "MADE",
   "language": "python",
   "name": "python3"
  },
  "language_info": {
   "codemirror_mode": {
    "name": "ipython",
    "version": 3
   },
   "file_extension": ".py",
   "mimetype": "text/x-python",
   "name": "python",
   "nbconvert_exporter": "python",
   "pygments_lexer": "ipython3",
   "version": "3.12.2"
  }
 },
 "nbformat": 4,
 "nbformat_minor": 2
}
